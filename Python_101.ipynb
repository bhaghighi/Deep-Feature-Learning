{
  "nbformat": 4,
  "nbformat_minor": 0,
  "metadata": {
    "colab": {
      "name": "Python_101.ipynb",
      "provenance": [],
      "authorship_tag": "ABX9TyPPymz5WQFJDFcGB8PAYISB",
      "include_colab_link": true
    },
    "kernelspec": {
      "name": "python3",
      "display_name": "Python 3"
    }
  },
  "cells": [
    {
      "cell_type": "markdown",
      "metadata": {
        "id": "view-in-github",
        "colab_type": "text"
      },
      "source": [
        "<a href=\"https://colab.research.google.com/github/bhaghighi/Deep-Learning-101/blob/master/Python_101.ipynb\" target=\"_parent\"><img src=\"https://colab.research.google.com/assets/colab-badge.svg\" alt=\"Open In Colab\"/></a>"
      ]
    },
    {
      "cell_type": "markdown",
      "metadata": {
        "id": "kzHWXiOy6GN6"
      },
      "source": [
        "#Python 101 questions"
      ]
    },
    {
      "cell_type": "markdown",
      "metadata": {
        "id": "jJLe_T6ZWNzK"
      },
      "source": [
        "***How call a function inside a class?***"
      ]
    },
    {
      "cell_type": "markdown",
      "metadata": {
        "id": "9ht4AdN_6iHz"
      },
      "source": [
        "**itertools.izip(*iterables) vs zip() in Python 3**"
      ]
    },
    {
      "cell_type": "markdown",
      "metadata": {
        "id": "ICMVy5MHXr_k"
      },
      "source": [
        "**Do order of methods matter in python?**"
      ]
    },
    {
      "cell_type": "markdown",
      "metadata": {
        "id": "Y1msBHbCauu6"
      },
      "source": [
        "**What are Magic Methods? can we overwrite them?**"
      ]
    }
  ]
}