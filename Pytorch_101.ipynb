{
  "nbformat": 4,
  "nbformat_minor": 0,
  "metadata": {
    "colab": {
      "name": "Pytorch_101.ipynb",
      "provenance": [],
      "authorship_tag": "ABX9TyPvC+Ik8TksLFuwKrIjxgif",
      "include_colab_link": true
    },
    "kernelspec": {
      "name": "python3",
      "display_name": "Python 3"
    }
  },
  "cells": [
    {
      "cell_type": "markdown",
      "metadata": {
        "id": "view-in-github",
        "colab_type": "text"
      },
      "source": [
        "<a href=\"https://colab.research.google.com/github/bhaghighi/Deep-Learning-101/blob/master/Pytorch_101.ipynb\" target=\"_parent\"><img src=\"https://colab.research.google.com/assets/colab-badge.svg\" alt=\"Open In Colab\"/></a>"
      ]
    },
    {
      "cell_type": "markdown",
      "metadata": {
        "id": "55KfOoWKEXF6"
      },
      "source": [
        "***Building custom dataset***\n",
        "\n",
        "---\n",
        "\n",
        "\n"
      ]
    },
    {
      "cell_type": "markdown",
      "metadata": {
        "id": "Kd7pPniDTHeA"
      },
      "source": [
        "1- Building Costum Data set (two ways)"
      ]
    },
    {
      "cell_type": "code",
      "metadata": {
        "id": "pGAf84Q8Eazc"
      },
      "source": [
        "import os \n",
        "import torch\n",
        "import torch.nn as nn \n",
        "from torch.nn import functional as F \n",
        "import numpy as np \n",
        "from torch.utils.data import TensorDataset\n",
        "\n",
        "# create simple numpy array to test custom data set\n",
        "x = torch.from_numpy(np.array([1, 2, 3, 4, 5])).float()\n",
        "y = torch.from_numpy(np.array([11, 22, 33, 44, 55])).float()"
      ],
      "execution_count": null,
      "outputs": []
    },
    {
      "cell_type": "code",
      "metadata": {
        "colab": {
          "base_uri": "https://localhost:8080/"
        },
        "id": "fl_WCP6JEwYI",
        "outputId": "bdcaa5ed-0482-4a3e-8a1d-e6878ed2944d"
      },
      "source": [
        "# First approach:\n",
        "from torch.utils.data import TensorDataset\n",
        "train_data1 = TensorDataset(x, y)\n",
        "print (type(train_data1))\n",
        "for i, j  in train_data1:\n",
        "    print (i,j)"
      ],
      "execution_count": null,
      "outputs": [
        {
          "output_type": "stream",
          "text": [
            "torch.utils.data.dataset.TensorDataset\n",
            "tensor(1.) tensor(11.)\n",
            "tensor(2.) tensor(22.)\n",
            "tensor(3.) tensor(33.)\n",
            "tensor(4.) tensor(44.)\n",
            "tensor(5.) tensor(55.)\n"
          ],
          "name": "stdout"
        }
      ]
    },
    {
      "cell_type": "code",
      "metadata": {
        "colab": {
          "base_uri": "https://localhost:8080/"
        },
        "id": "dBJW5x1CE6UJ",
        "outputId": "e190692c-02f3-487e-c71e-d10218ad2c5f"
      },
      "source": [
        "# Second approach:\n",
        "from torch.utils.data import Dataset \n",
        "\n",
        "class CustomDataset(Dataset):\n",
        "    def __init__(self, x, y):\n",
        "        self.x = x\n",
        "        self.y = y\n",
        "        \n",
        "    def __getitem__(self, index):\n",
        "        return (self.x[index], self.y[index])\n",
        "\n",
        "    def __len__(self):\n",
        "        return len(self.x)\n",
        "    \n",
        "train_data2 = CustomDataset(x, y)\n",
        "print (type(train_data2))\n",
        "\n",
        "for i,j in train_data2:\n",
        "    print (i,j)"
      ],
      "execution_count": null,
      "outputs": [
        {
          "output_type": "stream",
          "text": [
            "__main__.CustomDataset\n",
            "tensor(1.) tensor(11.)\n",
            "tensor(2.) tensor(22.)\n",
            "tensor(3.) tensor(33.)\n",
            "tensor(4.) tensor(44.)\n",
            "tensor(5.) tensor(55.)\n"
          ],
          "name": "stdout"
        }
      ]
    },
    {
      "cell_type": "markdown",
      "metadata": {
        "id": "PcObEoqETZ5H"
      },
      "source": [
        "2- Using Costum Data set with DataLoader "
      ]
    },
    {
      "cell_type": "code",
      "metadata": {
        "id": "XHMUdrfvFC1h"
      },
      "source": [
        "# What approach? first or second and why? \n",
        "# can we use them in DataLoeader? what is the point of DataLoader? "
      ],
      "execution_count": null,
      "outputs": []
    },
    {
      "cell_type": "code",
      "metadata": {
        "colab": {
          "base_uri": "https://localhost:8080/"
        },
        "id": "SgfIXx_oFeQD",
        "outputId": "a7c2ce91-9d2c-40c6-cabd-0a2c1955b4d5"
      },
      "source": [
        "# using train_data1 with DataLoader \n",
        "from torch.utils.data import DataLoader\n",
        "# try to run this with differnt batch sizes? \n",
        "train_loader = DataLoader(dataset=train_data1, batch_size=2, shuffle=False)\n",
        "for i, j in train_loader:\n",
        "    print (i,j)"
      ],
      "execution_count": null,
      "outputs": [
        {
          "output_type": "stream",
          "text": [
            "tensor([1., 2.]) tensor([11., 22.])\n",
            "tensor([3., 4.]) tensor([33., 44.])\n",
            "tensor([5.]) tensor([55.])\n"
          ],
          "name": "stdout"
        }
      ]
    },
    {
      "cell_type": "code",
      "metadata": {
        "colab": {
          "base_uri": "https://localhost:8080/"
        },
        "id": "YL3toKhHFJZ9",
        "outputId": "64c9755e-ae8d-40dd-b78b-d66fd8f1966e"
      },
      "source": [
        "# using train_data2 with DataLoader \n",
        "from torch.utils.data import DataLoader\n",
        "# try to run this with differnt batch sizes? \n",
        "train_loader = DataLoader(dataset=train_data2, batch_size=2, shuffle=False)\n",
        "for i, j in train_loader:\n",
        "    print (i,j)"
      ],
      "execution_count": null,
      "outputs": [
        {
          "output_type": "stream",
          "text": [
            "tensor([1., 2.]) tensor([11., 22.])\n",
            "tensor([3., 4.]) tensor([33., 44.])\n",
            "tensor([5.]) tensor([55.])\n"
          ],
          "name": "stdout"
        }
      ]
    },
    {
      "cell_type": "code",
      "metadata": {
        "id": "KDcVtLtHFQsh",
        "colab": {
          "base_uri": "https://localhost:8080/"
        },
        "outputId": "c4b1f144-fa4f-4c82-e446-43ed0f58e1e5"
      },
      "source": [
        "import os \n",
        "import torch\n",
        "import torch.nn as nn \n",
        "from torch.utils.data import DataLoader, Dataset\n",
        "import pandas as pd \n",
        "\n",
        "# Example: \n",
        "'''\n",
        "1- Reading Iris data set \n",
        "2- Making CostumDataSet \n",
        "3- Using it with DataLoader\n",
        "3-\n",
        "'''\n",
        "iris = pd.read_csv(\"https://archive.ics.uci.edu//ml//machine-learning-databases//iris//iris.data\", header = None)\n",
        "mappings = {\n",
        "   \"Iris-setosa\": 0,\n",
        "   \"Iris-versicolor\": 1,\n",
        "   \"Iris-virginica\": 2\n",
        "}\n",
        "iris.iloc[:,4] = iris.iloc[:,4].apply(lambda x: mappings[x])\n",
        "print (iris.tail())\n",
        "x = iris.iloc[:, 0:4].values\n",
        "print (x.shape, type(x))\n",
        "y = iris[4].values\n",
        "print (y.shape, type(y))\n",
        "#%%\n",
        "x_train_tensor = torch.from_numpy(x)\n",
        "y_train_tensor = torch.from_numpy(y)\n",
        "#%%\n",
        "class CustomDataset(Dataset):\n",
        "    def __init__(self, x, y):\n",
        "        self.x = x\n",
        "        self.y = y\n",
        "        \n",
        "    def __getitem__(self, index):\n",
        "        return (self.x[index], self.y[index])\n",
        "\n",
        "    def __len__(self):\n",
        "        return len(self.x)\n",
        "    \n",
        "train = CustomDataset(x_train_tensor, y_train_tensor)\n",
        "train_loader = DataLoader(dataset=train, batch_size=5, shuffle=False)\n",
        "#%%\n",
        "for i in train_loader: \n",
        "    print ((i))"
      ],
      "execution_count": 1,
      "outputs": [
        {
          "output_type": "stream",
          "text": [
            "       0    1    2    3  4\n",
            "145  6.7  3.0  5.2  2.3  2\n",
            "146  6.3  2.5  5.0  1.9  2\n",
            "147  6.5  3.0  5.2  2.0  2\n",
            "148  6.2  3.4  5.4  2.3  2\n",
            "149  5.9  3.0  5.1  1.8  2\n",
            "(150, 4) <class 'numpy.ndarray'>\n",
            "(150,) <class 'numpy.ndarray'>\n",
            "[tensor([[5.1000, 3.5000, 1.4000, 0.2000],\n",
            "        [4.9000, 3.0000, 1.4000, 0.2000],\n",
            "        [4.7000, 3.2000, 1.3000, 0.2000],\n",
            "        [4.6000, 3.1000, 1.5000, 0.2000],\n",
            "        [5.0000, 3.6000, 1.4000, 0.2000]], dtype=torch.float64), tensor([0, 0, 0, 0, 0])]\n",
            "[tensor([[5.4000, 3.9000, 1.7000, 0.4000],\n",
            "        [4.6000, 3.4000, 1.4000, 0.3000],\n",
            "        [5.0000, 3.4000, 1.5000, 0.2000],\n",
            "        [4.4000, 2.9000, 1.4000, 0.2000],\n",
            "        [4.9000, 3.1000, 1.5000, 0.1000]], dtype=torch.float64), tensor([0, 0, 0, 0, 0])]\n",
            "[tensor([[5.4000, 3.7000, 1.5000, 0.2000],\n",
            "        [4.8000, 3.4000, 1.6000, 0.2000],\n",
            "        [4.8000, 3.0000, 1.4000, 0.1000],\n",
            "        [4.3000, 3.0000, 1.1000, 0.1000],\n",
            "        [5.8000, 4.0000, 1.2000, 0.2000]], dtype=torch.float64), tensor([0, 0, 0, 0, 0])]\n",
            "[tensor([[5.7000, 4.4000, 1.5000, 0.4000],\n",
            "        [5.4000, 3.9000, 1.3000, 0.4000],\n",
            "        [5.1000, 3.5000, 1.4000, 0.3000],\n",
            "        [5.7000, 3.8000, 1.7000, 0.3000],\n",
            "        [5.1000, 3.8000, 1.5000, 0.3000]], dtype=torch.float64), tensor([0, 0, 0, 0, 0])]\n",
            "[tensor([[5.4000, 3.4000, 1.7000, 0.2000],\n",
            "        [5.1000, 3.7000, 1.5000, 0.4000],\n",
            "        [4.6000, 3.6000, 1.0000, 0.2000],\n",
            "        [5.1000, 3.3000, 1.7000, 0.5000],\n",
            "        [4.8000, 3.4000, 1.9000, 0.2000]], dtype=torch.float64), tensor([0, 0, 0, 0, 0])]\n",
            "[tensor([[5.0000, 3.0000, 1.6000, 0.2000],\n",
            "        [5.0000, 3.4000, 1.6000, 0.4000],\n",
            "        [5.2000, 3.5000, 1.5000, 0.2000],\n",
            "        [5.2000, 3.4000, 1.4000, 0.2000],\n",
            "        [4.7000, 3.2000, 1.6000, 0.2000]], dtype=torch.float64), tensor([0, 0, 0, 0, 0])]\n",
            "[tensor([[4.8000, 3.1000, 1.6000, 0.2000],\n",
            "        [5.4000, 3.4000, 1.5000, 0.4000],\n",
            "        [5.2000, 4.1000, 1.5000, 0.1000],\n",
            "        [5.5000, 4.2000, 1.4000, 0.2000],\n",
            "        [4.9000, 3.1000, 1.5000, 0.1000]], dtype=torch.float64), tensor([0, 0, 0, 0, 0])]\n",
            "[tensor([[5.0000, 3.2000, 1.2000, 0.2000],\n",
            "        [5.5000, 3.5000, 1.3000, 0.2000],\n",
            "        [4.9000, 3.1000, 1.5000, 0.1000],\n",
            "        [4.4000, 3.0000, 1.3000, 0.2000],\n",
            "        [5.1000, 3.4000, 1.5000, 0.2000]], dtype=torch.float64), tensor([0, 0, 0, 0, 0])]\n",
            "[tensor([[5.0000, 3.5000, 1.3000, 0.3000],\n",
            "        [4.5000, 2.3000, 1.3000, 0.3000],\n",
            "        [4.4000, 3.2000, 1.3000, 0.2000],\n",
            "        [5.0000, 3.5000, 1.6000, 0.6000],\n",
            "        [5.1000, 3.8000, 1.9000, 0.4000]], dtype=torch.float64), tensor([0, 0, 0, 0, 0])]\n",
            "[tensor([[4.8000, 3.0000, 1.4000, 0.3000],\n",
            "        [5.1000, 3.8000, 1.6000, 0.2000],\n",
            "        [4.6000, 3.2000, 1.4000, 0.2000],\n",
            "        [5.3000, 3.7000, 1.5000, 0.2000],\n",
            "        [5.0000, 3.3000, 1.4000, 0.2000]], dtype=torch.float64), tensor([0, 0, 0, 0, 0])]\n",
            "[tensor([[7.0000, 3.2000, 4.7000, 1.4000],\n",
            "        [6.4000, 3.2000, 4.5000, 1.5000],\n",
            "        [6.9000, 3.1000, 4.9000, 1.5000],\n",
            "        [5.5000, 2.3000, 4.0000, 1.3000],\n",
            "        [6.5000, 2.8000, 4.6000, 1.5000]], dtype=torch.float64), tensor([1, 1, 1, 1, 1])]\n",
            "[tensor([[5.7000, 2.8000, 4.5000, 1.3000],\n",
            "        [6.3000, 3.3000, 4.7000, 1.6000],\n",
            "        [4.9000, 2.4000, 3.3000, 1.0000],\n",
            "        [6.6000, 2.9000, 4.6000, 1.3000],\n",
            "        [5.2000, 2.7000, 3.9000, 1.4000]], dtype=torch.float64), tensor([1, 1, 1, 1, 1])]\n",
            "[tensor([[5.0000, 2.0000, 3.5000, 1.0000],\n",
            "        [5.9000, 3.0000, 4.2000, 1.5000],\n",
            "        [6.0000, 2.2000, 4.0000, 1.0000],\n",
            "        [6.1000, 2.9000, 4.7000, 1.4000],\n",
            "        [5.6000, 2.9000, 3.6000, 1.3000]], dtype=torch.float64), tensor([1, 1, 1, 1, 1])]\n",
            "[tensor([[6.7000, 3.1000, 4.4000, 1.4000],\n",
            "        [5.6000, 3.0000, 4.5000, 1.5000],\n",
            "        [5.8000, 2.7000, 4.1000, 1.0000],\n",
            "        [6.2000, 2.2000, 4.5000, 1.5000],\n",
            "        [5.6000, 2.5000, 3.9000, 1.1000]], dtype=torch.float64), tensor([1, 1, 1, 1, 1])]\n",
            "[tensor([[5.9000, 3.2000, 4.8000, 1.8000],\n",
            "        [6.1000, 2.8000, 4.0000, 1.3000],\n",
            "        [6.3000, 2.5000, 4.9000, 1.5000],\n",
            "        [6.1000, 2.8000, 4.7000, 1.2000],\n",
            "        [6.4000, 2.9000, 4.3000, 1.3000]], dtype=torch.float64), tensor([1, 1, 1, 1, 1])]\n",
            "[tensor([[6.6000, 3.0000, 4.4000, 1.4000],\n",
            "        [6.8000, 2.8000, 4.8000, 1.4000],\n",
            "        [6.7000, 3.0000, 5.0000, 1.7000],\n",
            "        [6.0000, 2.9000, 4.5000, 1.5000],\n",
            "        [5.7000, 2.6000, 3.5000, 1.0000]], dtype=torch.float64), tensor([1, 1, 1, 1, 1])]\n",
            "[tensor([[5.5000, 2.4000, 3.8000, 1.1000],\n",
            "        [5.5000, 2.4000, 3.7000, 1.0000],\n",
            "        [5.8000, 2.7000, 3.9000, 1.2000],\n",
            "        [6.0000, 2.7000, 5.1000, 1.6000],\n",
            "        [5.4000, 3.0000, 4.5000, 1.5000]], dtype=torch.float64), tensor([1, 1, 1, 1, 1])]\n",
            "[tensor([[6.0000, 3.4000, 4.5000, 1.6000],\n",
            "        [6.7000, 3.1000, 4.7000, 1.5000],\n",
            "        [6.3000, 2.3000, 4.4000, 1.3000],\n",
            "        [5.6000, 3.0000, 4.1000, 1.3000],\n",
            "        [5.5000, 2.5000, 4.0000, 1.3000]], dtype=torch.float64), tensor([1, 1, 1, 1, 1])]\n",
            "[tensor([[5.5000, 2.6000, 4.4000, 1.2000],\n",
            "        [6.1000, 3.0000, 4.6000, 1.4000],\n",
            "        [5.8000, 2.6000, 4.0000, 1.2000],\n",
            "        [5.0000, 2.3000, 3.3000, 1.0000],\n",
            "        [5.6000, 2.7000, 4.2000, 1.3000]], dtype=torch.float64), tensor([1, 1, 1, 1, 1])]\n",
            "[tensor([[5.7000, 3.0000, 4.2000, 1.2000],\n",
            "        [5.7000, 2.9000, 4.2000, 1.3000],\n",
            "        [6.2000, 2.9000, 4.3000, 1.3000],\n",
            "        [5.1000, 2.5000, 3.0000, 1.1000],\n",
            "        [5.7000, 2.8000, 4.1000, 1.3000]], dtype=torch.float64), tensor([1, 1, 1, 1, 1])]\n",
            "[tensor([[6.3000, 3.3000, 6.0000, 2.5000],\n",
            "        [5.8000, 2.7000, 5.1000, 1.9000],\n",
            "        [7.1000, 3.0000, 5.9000, 2.1000],\n",
            "        [6.3000, 2.9000, 5.6000, 1.8000],\n",
            "        [6.5000, 3.0000, 5.8000, 2.2000]], dtype=torch.float64), tensor([2, 2, 2, 2, 2])]\n",
            "[tensor([[7.6000, 3.0000, 6.6000, 2.1000],\n",
            "        [4.9000, 2.5000, 4.5000, 1.7000],\n",
            "        [7.3000, 2.9000, 6.3000, 1.8000],\n",
            "        [6.7000, 2.5000, 5.8000, 1.8000],\n",
            "        [7.2000, 3.6000, 6.1000, 2.5000]], dtype=torch.float64), tensor([2, 2, 2, 2, 2])]\n",
            "[tensor([[6.5000, 3.2000, 5.1000, 2.0000],\n",
            "        [6.4000, 2.7000, 5.3000, 1.9000],\n",
            "        [6.8000, 3.0000, 5.5000, 2.1000],\n",
            "        [5.7000, 2.5000, 5.0000, 2.0000],\n",
            "        [5.8000, 2.8000, 5.1000, 2.4000]], dtype=torch.float64), tensor([2, 2, 2, 2, 2])]\n",
            "[tensor([[6.4000, 3.2000, 5.3000, 2.3000],\n",
            "        [6.5000, 3.0000, 5.5000, 1.8000],\n",
            "        [7.7000, 3.8000, 6.7000, 2.2000],\n",
            "        [7.7000, 2.6000, 6.9000, 2.3000],\n",
            "        [6.0000, 2.2000, 5.0000, 1.5000]], dtype=torch.float64), tensor([2, 2, 2, 2, 2])]\n",
            "[tensor([[6.9000, 3.2000, 5.7000, 2.3000],\n",
            "        [5.6000, 2.8000, 4.9000, 2.0000],\n",
            "        [7.7000, 2.8000, 6.7000, 2.0000],\n",
            "        [6.3000, 2.7000, 4.9000, 1.8000],\n",
            "        [6.7000, 3.3000, 5.7000, 2.1000]], dtype=torch.float64), tensor([2, 2, 2, 2, 2])]\n",
            "[tensor([[7.2000, 3.2000, 6.0000, 1.8000],\n",
            "        [6.2000, 2.8000, 4.8000, 1.8000],\n",
            "        [6.1000, 3.0000, 4.9000, 1.8000],\n",
            "        [6.4000, 2.8000, 5.6000, 2.1000],\n",
            "        [7.2000, 3.0000, 5.8000, 1.6000]], dtype=torch.float64), tensor([2, 2, 2, 2, 2])]\n",
            "[tensor([[7.4000, 2.8000, 6.1000, 1.9000],\n",
            "        [7.9000, 3.8000, 6.4000, 2.0000],\n",
            "        [6.4000, 2.8000, 5.6000, 2.2000],\n",
            "        [6.3000, 2.8000, 5.1000, 1.5000],\n",
            "        [6.1000, 2.6000, 5.6000, 1.4000]], dtype=torch.float64), tensor([2, 2, 2, 2, 2])]\n",
            "[tensor([[7.7000, 3.0000, 6.1000, 2.3000],\n",
            "        [6.3000, 3.4000, 5.6000, 2.4000],\n",
            "        [6.4000, 3.1000, 5.5000, 1.8000],\n",
            "        [6.0000, 3.0000, 4.8000, 1.8000],\n",
            "        [6.9000, 3.1000, 5.4000, 2.1000]], dtype=torch.float64), tensor([2, 2, 2, 2, 2])]\n",
            "[tensor([[6.7000, 3.1000, 5.6000, 2.4000],\n",
            "        [6.9000, 3.1000, 5.1000, 2.3000],\n",
            "        [5.8000, 2.7000, 5.1000, 1.9000],\n",
            "        [6.8000, 3.2000, 5.9000, 2.3000],\n",
            "        [6.7000, 3.3000, 5.7000, 2.5000]], dtype=torch.float64), tensor([2, 2, 2, 2, 2])]\n",
            "[tensor([[6.7000, 3.0000, 5.2000, 2.3000],\n",
            "        [6.3000, 2.5000, 5.0000, 1.9000],\n",
            "        [6.5000, 3.0000, 5.2000, 2.0000],\n",
            "        [6.2000, 3.4000, 5.4000, 2.3000],\n",
            "        [5.9000, 3.0000, 5.1000, 1.8000]], dtype=torch.float64), tensor([2, 2, 2, 2, 2])]\n"
          ],
          "name": "stdout"
        }
      ]
    },
    {
      "cell_type": "code",
      "metadata": {
        "id": "mrUQCpWVhusH"
      },
      "source": [
        ""
      ],
      "execution_count": null,
      "outputs": []
    }
  ]
}