{
  "nbformat": 4,
  "nbformat_minor": 0,
  "metadata": {
    "colab": {
      "name": "Pytorch_101.ipynb",
      "provenance": [],
      "authorship_tag": "ABX9TyPQtaXaUZCSiu298cMKLQRL",
      "include_colab_link": true
    },
    "kernelspec": {
      "name": "python3",
      "display_name": "Python 3"
    }
  },
  "cells": [
    {
      "cell_type": "markdown",
      "metadata": {
        "id": "view-in-github",
        "colab_type": "text"
      },
      "source": [
        "<a href=\"https://colab.research.google.com/github/bhaghighi/Deep-Learning-101/blob/master/Pytorch_101.ipynb\" target=\"_parent\"><img src=\"https://colab.research.google.com/assets/colab-badge.svg\" alt=\"Open In Colab\"/></a>"
      ]
    },
    {
      "cell_type": "markdown",
      "metadata": {
        "id": "55KfOoWKEXF6"
      },
      "source": [
        "***Building custom dataset***\n"
      ]
    },
    {
      "cell_type": "code",
      "metadata": {
        "id": "pGAf84Q8Eazc"
      },
      "source": [
        "import os \n",
        "import torch\n",
        "import torch.nn as nn \n",
        "from torch.nn import functional as F \n",
        "import numpy as np \n",
        "from torch.utils.data import TensorDataset\n",
        "\n",
        "# create simple numpy array to test custom data set\n",
        "x = torch.from_numpy(np.array([1, 2, 3, 4, 5])).float()\n",
        "y = torch.from_numpy(np.array([11, 22, 33, 44, 55])).float()"
      ],
      "execution_count": 11,
      "outputs": []
    },
    {
      "cell_type": "code",
      "metadata": {
        "colab": {
          "base_uri": "https://localhost:8080/"
        },
        "id": "fl_WCP6JEwYI",
        "outputId": "bdcaa5ed-0482-4a3e-8a1d-e6878ed2944d"
      },
      "source": [
        "# First approach:\n",
        "from torch.utils.data import TensorDataset\n",
        "train_data1 = TensorDataset(x, y)\n",
        "print (type(train_data1))\n",
        "for i, j  in train_data1:\n",
        "    print (i,j)"
      ],
      "execution_count": 12,
      "outputs": [
        {
          "output_type": "stream",
          "text": [
            "torch.utils.data.dataset.TensorDataset\n",
            "tensor(1.) tensor(11.)\n",
            "tensor(2.) tensor(22.)\n",
            "tensor(3.) tensor(33.)\n",
            "tensor(4.) tensor(44.)\n",
            "tensor(5.) tensor(55.)\n"
          ],
          "name": "stdout"
        }
      ]
    },
    {
      "cell_type": "code",
      "metadata": {
        "colab": {
          "base_uri": "https://localhost:8080/"
        },
        "id": "dBJW5x1CE6UJ",
        "outputId": "e190692c-02f3-487e-c71e-d10218ad2c5f"
      },
      "source": [
        "# Second approach:\n",
        "from torch.utils.data import Dataset \n",
        "\n",
        "class CustomDataset(Dataset):\n",
        "    def __init__(self, x, y):\n",
        "        self.x = x\n",
        "        self.y = y\n",
        "        \n",
        "    def __getitem__(self, index):\n",
        "        return (self.x[index], self.y[index])\n",
        "\n",
        "    def __len__(self):\n",
        "        return len(self.x)\n",
        "    \n",
        "train_data2 = CustomDataset(x, y)\n",
        "print (type(train_data2))\n",
        "\n",
        "for i,j in train_data2:\n",
        "    print (i,j)"
      ],
      "execution_count": 13,
      "outputs": [
        {
          "output_type": "stream",
          "text": [
            "__main__.CustomDataset\n",
            "tensor(1.) tensor(11.)\n",
            "tensor(2.) tensor(22.)\n",
            "tensor(3.) tensor(33.)\n",
            "tensor(4.) tensor(44.)\n",
            "tensor(5.) tensor(55.)\n"
          ],
          "name": "stdout"
        }
      ]
    },
    {
      "cell_type": "code",
      "metadata": {
        "id": "XHMUdrfvFC1h"
      },
      "source": [
        "# What approach? first or second and why? \n",
        "# can we use them in DataLoeader? what is the point of DataLoader? "
      ],
      "execution_count": 14,
      "outputs": []
    },
    {
      "cell_type": "code",
      "metadata": {
        "colab": {
          "base_uri": "https://localhost:8080/"
        },
        "id": "SgfIXx_oFeQD",
        "outputId": "a7c2ce91-9d2c-40c6-cabd-0a2c1955b4d5"
      },
      "source": [
        "# using train_data1 with DataLoader \n",
        "from torch.utils.data import DataLoader\n",
        "# try to run this with differnt batch sizes? \n",
        "train_loader = DataLoader(dataset=train_data1, batch_size=2, shuffle=False)\n",
        "for i, j in train_loader:\n",
        "    print (i,j)"
      ],
      "execution_count": 15,
      "outputs": [
        {
          "output_type": "stream",
          "text": [
            "tensor([1., 2.]) tensor([11., 22.])\n",
            "tensor([3., 4.]) tensor([33., 44.])\n",
            "tensor([5.]) tensor([55.])\n"
          ],
          "name": "stdout"
        }
      ]
    },
    {
      "cell_type": "code",
      "metadata": {
        "colab": {
          "base_uri": "https://localhost:8080/"
        },
        "id": "YL3toKhHFJZ9",
        "outputId": "64c9755e-ae8d-40dd-b78b-d66fd8f1966e"
      },
      "source": [
        "# using train_data2 with DataLoader \n",
        "from torch.utils.data import DataLoader\n",
        "# try to run this with differnt batch sizes? \n",
        "train_loader = DataLoader(dataset=train_data2, batch_size=2, shuffle=False)\n",
        "for i, j in train_loader:\n",
        "    print (i,j)"
      ],
      "execution_count": 16,
      "outputs": [
        {
          "output_type": "stream",
          "text": [
            "tensor([1., 2.]) tensor([11., 22.])\n",
            "tensor([3., 4.]) tensor([33., 44.])\n",
            "tensor([5.]) tensor([55.])\n"
          ],
          "name": "stdout"
        }
      ]
    },
    {
      "cell_type": "code",
      "metadata": {
        "id": "KDcVtLtHFQsh"
      },
      "source": [
        ""
      ],
      "execution_count": 16,
      "outputs": []
    }
  ]
}