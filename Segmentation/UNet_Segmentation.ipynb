{
  "nbformat": 4,
  "nbformat_minor": 0,
  "metadata": {
    "colab": {
      "name": "UNet Segmentation.ipynb",
      "provenance": [],
      "authorship_tag": "ABX9TyNTNnbEnNYxwa58Amyr4JiQ",
      "include_colab_link": true
    },
    "kernelspec": {
      "name": "python3",
      "display_name": "Python 3"
    },
    "accelerator": "GPU"
  },
  "cells": [
    {
      "cell_type": "markdown",
      "metadata": {
        "id": "view-in-github",
        "colab_type": "text"
      },
      "source": [
        "<a href=\"https://colab.research.google.com/github/bhaghighi/Deep-Learning-101/blob/master/Segmentation/UNet_Segmentation.ipynb\" target=\"_parent\"><img src=\"https://colab.research.google.com/assets/colab-badge.svg\" alt=\"Open In Colab\"/></a>"
      ]
    },
    {
      "cell_type": "markdown",
      "metadata": {
        "id": "-nxep_ksEJXr"
      },
      "source": [
        "This notebook describe the neccesary steps for simple UNet segmentation\n",
        "<br>\n",
        "The contents are got from this source: \"https://github.com/usuyama/pytorch-unet\"\n"
      ]
    },
    {
      "cell_type": "markdown",
      "metadata": {
        "id": "YZu2xRXQFjQK"
      },
      "source": [
        "**Making Synthetic images for segmentation** "
      ]
    },
    {
      "cell_type": "code",
      "metadata": {
        "id": "VY9yvOStGPvC"
      },
      "source": [
        ""
      ],
      "execution_count": null,
      "outputs": []
    }
  ]
}